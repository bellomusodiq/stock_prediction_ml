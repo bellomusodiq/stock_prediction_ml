{
 "cells": [
  {
   "cell_type": "code",
   "execution_count": 1,
   "metadata": {},
   "outputs": [],
   "source": [
    "import numpy as np\n",
    "import pandas as pd\n",
    "import matplotlib.pyplot as plt"
   ]
  },
  {
   "cell_type": "code",
   "execution_count": 2,
   "metadata": {},
   "outputs": [
    {
     "data": {
      "text/html": [
       "<div>\n",
       "<style scoped>\n",
       "    .dataframe tbody tr th:only-of-type {\n",
       "        vertical-align: middle;\n",
       "    }\n",
       "\n",
       "    .dataframe tbody tr th {\n",
       "        vertical-align: top;\n",
       "    }\n",
       "\n",
       "    .dataframe thead th {\n",
       "        text-align: right;\n",
       "    }\n",
       "</style>\n",
       "<table border=\"1\" class=\"dataframe\">\n",
       "  <thead>\n",
       "    <tr style=\"text-align: right;\">\n",
       "      <th></th>\n",
       "      <th>Date</th>\n",
       "      <th>Open</th>\n",
       "      <th>High</th>\n",
       "      <th>Low</th>\n",
       "      <th>Close</th>\n",
       "      <th>Adj Close</th>\n",
       "      <th>Volume</th>\n",
       "    </tr>\n",
       "  </thead>\n",
       "  <tbody>\n",
       "    <tr>\n",
       "      <th>0</th>\n",
       "      <td>2019-02-04</td>\n",
       "      <td>165.699997</td>\n",
       "      <td>169.300003</td>\n",
       "      <td>163.619995</td>\n",
       "      <td>169.250000</td>\n",
       "      <td>169.250000</td>\n",
       "      <td>20036000</td>\n",
       "    </tr>\n",
       "    <tr>\n",
       "      <th>1</th>\n",
       "      <td>2019-02-05</td>\n",
       "      <td>169.149994</td>\n",
       "      <td>171.979996</td>\n",
       "      <td>168.690002</td>\n",
       "      <td>171.160004</td>\n",
       "      <td>171.160004</td>\n",
       "      <td>22557000</td>\n",
       "    </tr>\n",
       "    <tr>\n",
       "      <th>2</th>\n",
       "      <td>2019-02-06</td>\n",
       "      <td>171.199997</td>\n",
       "      <td>172.470001</td>\n",
       "      <td>169.270004</td>\n",
       "      <td>170.490005</td>\n",
       "      <td>170.490005</td>\n",
       "      <td>13281200</td>\n",
       "    </tr>\n",
       "    <tr>\n",
       "      <th>3</th>\n",
       "      <td>2019-02-07</td>\n",
       "      <td>168.199997</td>\n",
       "      <td>169.240005</td>\n",
       "      <td>165.250000</td>\n",
       "      <td>166.380005</td>\n",
       "      <td>166.380005</td>\n",
       "      <td>17517600</td>\n",
       "    </tr>\n",
       "    <tr>\n",
       "      <th>4</th>\n",
       "      <td>2019-02-08</td>\n",
       "      <td>164.470001</td>\n",
       "      <td>167.369995</td>\n",
       "      <td>164.210007</td>\n",
       "      <td>167.330002</td>\n",
       "      <td>167.330002</td>\n",
       "      <td>12561400</td>\n",
       "    </tr>\n",
       "  </tbody>\n",
       "</table>\n",
       "</div>"
      ],
      "text/plain": [
       "         Date        Open        High         Low       Close   Adj Close  \\\n",
       "0  2019-02-04  165.699997  169.300003  163.619995  169.250000  169.250000   \n",
       "1  2019-02-05  169.149994  171.979996  168.690002  171.160004  171.160004   \n",
       "2  2019-02-06  171.199997  172.470001  169.270004  170.490005  170.490005   \n",
       "3  2019-02-07  168.199997  169.240005  165.250000  166.380005  166.380005   \n",
       "4  2019-02-08  164.470001  167.369995  164.210007  167.330002  167.330002   \n",
       "\n",
       "     Volume  \n",
       "0  20036000  \n",
       "1  22557000  \n",
       "2  13281200  \n",
       "3  17517600  \n",
       "4  12561400  "
      ]
     },
     "execution_count": 2,
     "metadata": {},
     "output_type": "execute_result"
    }
   ],
   "source": [
    "dataset = pd.read_csv('./FB.csv')\n",
    "dataset.head()"
   ]
  },
  {
   "cell_type": "code",
   "execution_count": 3,
   "metadata": {},
   "outputs": [],
   "source": [
    "# y = Adj Close\n",
    "y = dataset['Adj Close'].values"
   ]
  },
  {
   "cell_type": "code",
   "execution_count": 4,
   "metadata": {},
   "outputs": [
    {
     "data": {
      "text/plain": [
       "array([169.25    , 171.160004, 170.490005, 166.380005, 167.330002,\n",
       "       165.789993, 165.039993, 164.070007, 163.949997, 162.5     ,\n",
       "       162.289993, 162.559998, 160.039993, 161.889999, 164.619995,\n",
       "       164.130005, 162.809998, 161.449997, 162.279999, 167.369995,\n",
       "       171.259995, 172.509995, 169.130005, 169.600006, 172.070007,\n",
       "       171.919998, 173.369995, 170.169998, 165.979996, 160.470001,\n",
       "       161.570007, 165.440002, 166.080002, 164.339996, 166.289993,\n",
       "       167.679993, 165.869995, 165.550003, 166.690002, 168.699997,\n",
       "       174.199997, 173.539993, 176.020004, 175.720001, 174.929993,\n",
       "       177.580002, 177.820007, 177.509995, 179.100006, 179.649994,\n",
       "       178.869995, 178.779999, 178.279999, 181.440002, 183.779999,\n",
       "       182.580002, 193.259995, 191.490005, 194.779999, 193.399994,\n",
       "       193.029999, 192.529999, 195.470001, 193.880005, 189.770004,\n",
       "       189.539993, 188.649994, 188.339996, 181.539993, 180.729996,\n",
       "       186.270004, 186.990005, 185.300003, 182.720001, 184.820007,\n",
       "       185.320007, 180.869995, 181.059998, 184.309998, 182.190002,\n",
       "       183.009995, 177.470001, 164.149994, 167.5     , 168.169998,\n",
       "       168.330002, 173.350006, 174.820007, 178.100006, 175.039993,\n",
       "       177.470001, 181.330002, 189.009995, 188.470001, 187.479996,\n",
       "       189.529999, 191.139999, 192.600006, 188.839996, 187.660004,\n",
       "       189.5     , 193.      , 193.      , 195.      , 197.199997,\n",
       "       196.399994, 195.759995, 199.210007, 202.729996, 201.229996,\n",
       "       204.869995, 203.910004, 203.839996, 201.800003, 200.779999,\n",
       "       198.360001, 202.320007, 202.360001, 204.660004, 200.710007,\n",
       "       199.75    , 195.940002, 197.039993, 194.229996, 192.729996,\n",
       "       189.020004, 181.729996, 184.509995, 185.149994, 190.160004,\n",
       "       187.850006, 185.369995, 188.449997, 179.710007, 182.589996,\n",
       "       183.699997, 186.169998, 183.809998, 183.550003, 182.039993,\n",
       "       177.75    , 180.360001, 181.300003, 181.759995, 185.570007,\n",
       "       185.669998, 182.389999, 187.139999, 190.899994, 187.490005,\n",
       "       188.759995, 186.169998, 188.490005, 187.470001, 187.190002,\n",
       "       186.220001, 188.080002, 188.139999, 190.139999, 189.929993,\n",
       "       186.820007, 181.279999, 182.800003, 180.110001, 177.100006,\n",
       "       178.080002, 175.809998, 174.600006, 179.380005, 180.449997,\n",
       "       179.679993, 177.75    , 179.850006, 180.029999, 184.190002,\n",
       "       183.279999, 188.889999, 189.550003, 190.389999, 185.850006,\n",
       "       189.759995, 182.339996, 186.149994, 186.380005, 187.889999,\n",
       "       189.399994, 189.309998, 188.25    , 191.649994, 193.619995,\n",
       "       194.720001, 194.320007, 191.550003, 190.419998, 190.839996,\n",
       "       189.610001, 194.470001, 193.190002, 193.149994, 195.100006,\n",
       "       197.399994, 199.320007, 197.509995, 197.929993, 198.820007,\n",
       "       199.789993, 198.970001, 202.      , 201.639999, 199.699997,\n",
       "       198.820007, 198.710007, 199.360001, 201.050003, 201.339996,\n",
       "       200.869995, 202.259995, 196.75    , 194.110001, 197.919998,\n",
       "       198.389999, 202.5     , 206.059998, 206.300003, 206.179993,\n",
       "       205.119995, 207.789993, 208.100006, 204.410004, 205.25    ,\n",
       "       209.779999, 208.669998, 212.600006, 213.059998, 215.220001,\n",
       "       218.300003, 218.059998, 221.910004, 219.059998, 221.149994,\n",
       "       221.770004, 222.139999, 221.440002, 221.320007, 219.759995,\n",
       "       217.940002, 214.869995, 217.789993, 223.229996, 209.529999,\n",
       "       201.910004])"
      ]
     },
     "execution_count": 4,
     "metadata": {},
     "output_type": "execute_result"
    }
   ],
   "source": [
    "y"
   ]
  },
  {
   "cell_type": "code",
   "execution_count": 5,
   "metadata": {
    "scrolled": true
   },
   "outputs": [
    {
     "data": {
      "text/plain": [
       "251"
      ]
     },
     "execution_count": 5,
     "metadata": {},
     "output_type": "execute_result"
    }
   ],
   "source": [
    "len(y)"
   ]
  },
  {
   "cell_type": "markdown",
   "metadata": {},
   "source": [
    "days"
   ]
  },
  {
   "cell_type": "code",
   "execution_count": 6,
   "metadata": {},
   "outputs": [],
   "source": [
    "x = []\n",
    "for i in range(1, len(y) + 1):\n",
    "    x.append(i)"
   ]
  },
  {
   "cell_type": "code",
   "execution_count": 7,
   "metadata": {},
   "outputs": [],
   "source": [
    "x = np.array(x)"
   ]
  },
  {
   "cell_type": "code",
   "execution_count": 8,
   "metadata": {},
   "outputs": [],
   "source": [
    "x = x.reshape(len(x), 1)"
   ]
  },
  {
   "cell_type": "code",
   "execution_count": 9,
   "metadata": {},
   "outputs": [],
   "source": [
    "train_size = (len(x) * 80) // 100\n",
    "test_size = len(x) - train_size"
   ]
  },
  {
   "cell_type": "code",
   "execution_count": 10,
   "metadata": {},
   "outputs": [
    {
     "name": "stdout",
     "output_type": "stream",
     "text": [
      "51 200\n"
     ]
    }
   ],
   "source": [
    "print(test_size, train_size)"
   ]
  },
  {
   "cell_type": "code",
   "execution_count": 11,
   "metadata": {},
   "outputs": [],
   "source": [
    "x_train = x[:train_size]\n",
    "x_test = x[train_size:]"
   ]
  },
  {
   "cell_type": "code",
   "execution_count": 12,
   "metadata": {},
   "outputs": [],
   "source": [
    "y_train = y[:train_size]\n",
    "y_test = y[train_size:]"
   ]
  },
  {
   "cell_type": "code",
   "execution_count": 13,
   "metadata": {},
   "outputs": [],
   "source": [
    "from sklearn.linear_model import LinearRegression"
   ]
  },
  {
   "cell_type": "code",
   "execution_count": 14,
   "metadata": {},
   "outputs": [
    {
     "data": {
      "text/plain": [
       "LinearRegression(copy_X=True, fit_intercept=True, n_jobs=None, normalize=False)"
      ]
     },
     "execution_count": 14,
     "metadata": {},
     "output_type": "execute_result"
    }
   ],
   "source": [
    "model = LinearRegression()\n",
    "model.fit(x_train, y_train)"
   ]
  },
  {
   "cell_type": "code",
   "execution_count": 15,
   "metadata": {
    "scrolled": true
   },
   "outputs": [],
   "source": [
    "y_pred = model.predict(x_test)"
   ]
  },
  {
   "cell_type": "code",
   "execution_count": 16,
   "metadata": {},
   "outputs": [
    {
     "data": {
      "text/plain": [
       "[<matplotlib.lines.Line2D at 0x23ec89b2240>]"
      ]
     },
     "execution_count": 16,
     "metadata": {},
     "output_type": "execute_result"
    },
    {
     "data": {
      "image/png": "[encoded data removed]",
      "text/plain": [
       "<Figure size 432x288 with 1 Axes>"
      ]
     },
     "metadata": {
      "needs_background": "light"
     },
     "output_type": "display_data"
    }
   ],
   "source": [
    "plt.plot(x_train, y_train)"
   ]
  },
  {
   "cell_type": "code",
   "execution_count": 20,
   "metadata": {},
   "outputs": [
    {
     "data": {
      "text/plain": [
       "Text(0, 0.5, 'Stock price')"
      ]
     },
     "execution_count": 20,
     "metadata": {},
     "output_type": "execute_result"
    },
    {
     "data": {
      "image/png": "[encoded data removed]",
      "text/plain": [
       "<Figure size 432x288 with 1 Axes>"
      ]
     },
     "metadata": {
      "needs_background": "light"
     },
     "output_type": "display_data"
    }
   ],
   "source": [
    "plt.plot(x_train, model.predict(x_train), label='Predicted train values(regressor line)')\n",
    "plt.plot(x_train, y_train, label='True train values')\n",
    "plt.legend()\n",
    "plt.xlabel('Days')\n",
    "plt.ylabel('Stock price')"
   ]
  },
  {
   "cell_type": "code",
   "execution_count": 21,
   "metadata": {
    "scrolled": true
   },
   "outputs": [
    {
     "data": {
      "text/plain": [
       "Text(0, 0.5, 'Stock price')"
      ]
     },
     "execution_count": 21,
     "metadata": {},
     "output_type": "execute_result"
    },
    {
     "data": {
      "image/png": "[encoded data removed]",
      "text/plain": [
       "<Figure size 432x288 with 1 Axes>"
      ]
     },
     "metadata": {
      "needs_background": "light"
     },
     "output_type": "display_data"
    }
   ],
   "source": [
    "plt.plot(x_test, y_pred, label='Predicted test values (regressor line)')\n",
    "plt.plot(x_test, y_test, label='True test values')\n",
    "plt.legend()\n",
    "plt.xlabel('Days')\n",
    "plt.ylabel('Stock price')"
   ]
  },
  {
   "cell_type": "code",
   "execution_count": 19,
   "metadata": {},
   "outputs": [
    {
     "data": {
      "text/plain": [
       "200"
      ]
     },
     "execution_count": 19,
     "metadata": {},
     "output_type": "execute_result"
    }
   ],
   "source": [
    "len(x_train)"
   ]
  }
 ],
 "metadata": {
  "kernelspec": {
   "display_name": "Python 3",
   "language": "python",
   "name": "python3"
  },
  "language_info": {
   "codemirror_mode": {
    "name": "ipython",
    "version": 3
   },
   "file_extension": ".py",
   "mimetype": "text/x-python",
   "name": "python",
   "nbconvert_exporter": "python",
   "pygments_lexer": "ipython3",
   "version": "3.7.3"
  }
 },
 "nbformat": 4,
 "nbformat_minor": 2
}
